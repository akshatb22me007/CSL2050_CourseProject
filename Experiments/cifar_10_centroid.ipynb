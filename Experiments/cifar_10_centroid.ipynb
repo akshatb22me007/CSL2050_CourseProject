import tensorflow as tf
from tensorflow.keras import datasets, layers, models
import numpy as np
from PIL import Image
from scipy.spatial.distance import euclidean
import tempfile

image_path="/content/downloaded_images/class_0_image_40420.png"

# Load CIFAR-10 dataset
(train_images, train_labels), (_, _) = datasets.cifar10.load_data()

# Normalize pixel values to be between 0 and 1
train_images = train_images / 255.0

# Load a pre-trained model (e.g., ResNet50)
base_model = tf.keras.applications.ResNet50(weights='imagenet', include_top=False, input_shape=(32, 32, 3))

# Extract embeddings
embeddings_model = models.Sequential([
    base_model,
    layers.GlobalAveragePooling2D(),  # Using GlobalAveragePooling2D to reduce spatial dimensions
    layers.Dense(512, activation='relu')  # You can adjust the size of the dense layer according to your need
])

# Compute embeddings
embeddings = embeddings_model.predict(train_images)

# Initialize array to store mean embeddings for each class
num_classes = 10
mean_embeddings = np.zeros((num_classes, embeddings.shape[1]))

# Calculate mean embeddings for each class
for class_label in range(num_classes):
    class_indices = np.where(train_labels == class_label)[0]
    class_embeddings = embeddings[class_indices]
    mean_embedding = np.mean(class_embeddings, axis=0)
    mean_embeddings[class_label] = mean_embedding

# Define a function to preprocess image and predict its class
def predict_class(image_path):
    # Load and preprocess the image
    test_image = Image.open(image_path)
    test_image = test_image.resize((32, 32))  # Resize the image to match the input size
    test_image = np.array(test_image) / 255.0  # Normalize pixel values

    # Extract embedding for the test image
    test_embedding = embeddings_model.predict(np.expand_dims(test_image, axis=0))[0]

    # Calculate distance between test image embedding and mean embeddings of each class
    distances = [euclidean(test_embedding, mean_embedding) for mean_embedding in mean_embeddings]

    # Get the class label with the least distance
    predicted_class = np.argmin(distances)
    return predicted_class

# Function to save image to a temporary file and predict its class
def predict_class_from_image(image):
    # Convert to RGB if the image has more than 3 channels
    if image.mode != 'RGB':
        image = image.convert('RGB')

    # Save the image to a temporary file
    with tempfile.NamedTemporaryFile(suffix=".png", delete=False) as temp_file:
        temp_image_path = temp_file.name
        image.save(temp_image_path)

    # Predict class from the temporary image path
    predicted_class = predict_class(temp_image_path)
    print("Predicted class:", predicted_class)

# Test the function with an image
image_path = "/content/downloaded_images/class_0_image_40420.png"  # Replace with the path to your test image
test_image = Image.open(image_path)
predict_class_from_image(test_image)
