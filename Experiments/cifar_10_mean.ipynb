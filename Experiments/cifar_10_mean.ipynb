{
  "cells": [
    {
      "cell_type": "code",
      "execution_count": 1,
      "metadata": {
        "id": "DNxcSwChJFy-"
      },
      "outputs": [],
      "source": [
        "import numpy as np\n",
        "import tensorflow as tf\n",
        "from tensorflow.keras.applications import ResNet50\n",
        "from tensorflow.keras.datasets import cifar10\n",
        "from tensorflow.keras.preprocessing import image\n",
        "from tensorflow.keras.applications.resnet50 import preprocess_input\n"
      ]
    },
    {
      "cell_type": "code",
      "execution_count": 3,
      "metadata": {
        "colab": {
          "base_uri": "https://localhost:8080/"
        },
        "id": "NxYTJJLoJdAn",
        "outputId": "656718ea-f287-4315-9462-4290d5021d02"
      },
      "outputs": [
        {
          "name": "stdout",
          "output_type": "stream",
          "text": [
            "313/313 [==============================] - 47s 144ms/step\n"
          ]
        }
      ],
      "source": [
        "def calculate_embeddings(images):\n",
        "    preprocessed_images = preprocess_input(images)\n",
        "    embeddings = model.predict(preprocessed_images)\n",
        "    return embeddings\n",
        "\n",
        "# Calculate embeddings for the entire dataset\n",
        "embeddings = calculate_embeddings(x_test)\n",
        "\n",
        "# Calculate mean embeddings for each class\n",
        "num_classes = 10\n",
        "mean_embeddings = np.zeros((num_classes, embeddings.shape[1]))"
      ]
    },
    {
      "cell_type": "code",
      "execution_count": null,
      "metadata": {
        "id": "gKKvWPKYJjRp"
      },
      "outputs": [],
      "source": [
        "for class_label in range(num_classes):\n",
        "    class_indices = np.where(y_test[:,0] == class_label)[0]\n",
        "    class_embeddings = embeddings[class_indices]\n",
        "    mean_embeddings[class_label] = np.mean(class_embeddings, axis=0)"
      ]
    },
    {
      "cell_type": "code",
      "execution_count": 6,
      "metadata": {
        "colab": {
          "base_uri": "https://localhost:8080/"
        },
        "id": "ieJhm3DkJn89",
        "outputId": "8222011f-a597-464b-9068-8ec8e6eaeb77"
      },
      "outputs": [
        {
          "name": "stdout",
          "output_type": "stream",
          "text": [
            "Mean embeddings shape: (10, 1)\n",
            "Mean embeddings: [[0.]\n",
            " [0.]\n",
            " [0.]\n",
            " [0.]\n",
            " [0.]\n",
            " [0.]\n",
            " [0.]\n",
            " [0.]\n",
            " [0.]\n",
            " [0.]]\n"
          ]
        }
      ],
      "source": [
        "print(\"Mean embeddings shape:\", mean_embeddings.shape)\n",
        "print(\"Mean embeddings:\", mean_embeddings)\n",
        "mean_embeddings"
      ]
    }
  ],
  "metadata": {
    "colab": {
      "provenance": []
    },
    "kernelspec": {
      "display_name": "Python 3",
      "name": "python3"
    },
    "language_info": {
      "codemirror_mode": {
        "name": "ipython",
        "version": 3
      },
      "file_extension": ".py",
      "mimetype": "text/x-python",
      "name": "python",
      "nbconvert_exporter": "python",
      "pygments_lexer": "ipython3",
      "version": "3.11.3"
    }
  },
  "nbformat": 4,
  "nbformat_minor": 0
}
